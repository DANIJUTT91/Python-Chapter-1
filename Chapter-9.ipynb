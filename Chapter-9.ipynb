{
 "cells": [
  {
   "cell_type": "markdown",
   "id": "fcd42d50",
   "metadata": {},
   "source": [
    "# Couting all the words in a text file"
   ]
  },
  {
   "cell_type": "code",
   "execution_count": 3,
   "id": "2076b6b6",
   "metadata": {},
   "outputs": [
    {
     "name": "stdout",
     "output_type": "stream",
     "text": [
      "{'This': 1, 'methodology': 1, 'section': 1, 'outlines': 1, 'the': 11, 'comprehensive': 1, 'approach': 1, 'employed': 2, 'to': 6, 'investigate': 1, 'impact': 1, 'of': 8, 'international': 2, 'trade': 2, 'on': 1, \"Pakistan's\": 2, 'economy.': 1, 'The': 2, 'research': 3, 'design,': 1, 'data': 4, 'collection': 1, 'methods,': 1, 'sampling,': 1, 'analysis': 1, 'techniques,': 1, 'and': 7, 'ethical': 1, 'considerations': 1, 'have': 1, 'been': 1, 'carefully': 1, 'considered': 1, 'ensure': 1, 'validity': 2, 'reliability': 2, \"study's\": 1, 'findings.': 1, 'By': 1, 'integrating': 1, 'quantitative': 2, 'qualitative': 2, 'dat': 1, 'a,': 1, 'this': 2, 'aims': 1, 'contribute': 1, 'a': 2, 'nuanced': 1, 'understanding': 2, 'complex': 1, 'relationship': 1, 'between': 1, 'economic': 1, 'development': 1, 'integration': 1, 'quan': 1, 'titative': 1, 'will': 3, 'be': 2, 'key': 1, 'aspect': 1, 'research.': 2, 'Triangulation,': 1, 'process': 1, 'corroborating': 1, 'findings': 1, 'from': 1, 'different': 1, 'sources,': 1, 'enhance': 1, 'Qualitative': 1, 'insights': 1, 'provide': 1, 'context': 1, 'depth': 1, 'analyses,': 1, 'enriching': 1, 'overall': 1, 'question.': 1}\n"
     ]
    }
   ],
   "source": [
    "name = r'C:\\Users\\hp\\Desktop\\Input.txt'\n",
    "handle = open(name)\n",
    "text = handle.read()\n",
    "words = text.split()\n",
    "count = dict()\n",
    "for word in words:\n",
    "    count[word] = count.get(word,0)+1\n",
    "print(count)\n"
   ]
  },
  {
   "cell_type": "markdown",
   "id": "ad94fe6a",
   "metadata": {},
   "source": [
    "## Counting most common word using dictionery"
   ]
  },
  {
   "cell_type": "code",
   "execution_count": 2,
   "id": "685248da",
   "metadata": {},
   "outputs": [
    {
     "name": "stdout",
     "output_type": "stream",
     "text": [
      "Most common word is \" the \" it is used  11 times\n"
     ]
    }
   ],
   "source": [
    "maxWord = ''\n",
    "maxCount = 0\n",
    "for word in count:\n",
    "    if int(count[word])>maxCount:\n",
    "        maxCount = count[word]\n",
    "        maxWord = word\n",
    "print('Most common word is \"',maxWord,'\" it is used ',maxCount,'times')"
   ]
  }
 ],
 "metadata": {
  "kernelspec": {
   "display_name": "Python 3 (ipykernel)",
   "language": "python",
   "name": "python3"
  },
  "language_info": {
   "codemirror_mode": {
    "name": "ipython",
    "version": 3
   },
   "file_extension": ".py",
   "mimetype": "text/x-python",
   "name": "python",
   "nbconvert_exporter": "python",
   "pygments_lexer": "ipython3",
   "version": "3.11.4"
  }
 },
 "nbformat": 4,
 "nbformat_minor": 5
}
