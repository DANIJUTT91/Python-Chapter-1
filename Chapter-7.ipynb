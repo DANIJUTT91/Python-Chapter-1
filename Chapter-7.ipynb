{
 "cells": [
  {
   "cell_type": "markdown",
   "id": "718f181a",
   "metadata": {},
   "source": [
    "# Program to count most common word from a text file"
   ]
  },
  {
   "cell_type": "code",
   "execution_count": 3,
   "id": "334f800e",
   "metadata": {},
   "outputs": [
    {
     "name": "stdout",
     "output_type": "stream",
     "text": [
      "Most common word is \" the \" it is used  11 times\n"
     ]
    }
   ],
   "source": [
    "name = r'C:\\Users\\hp\\Desktop\\Input.txt'\n",
    "handle = open(name)\n",
    "text = handle.read()\n",
    "words = text.split()\n",
    "count = dict()\n",
    "for word in words:\n",
    "    count[word] = count.get(word,0)+1\n",
    "\n",
    "maxWord = ''\n",
    "maxCount = 0\n",
    "for word in count:\n",
    "    if int(count[word])>maxCount:\n",
    "        maxCount = count[word]\n",
    "        maxWord = word\n",
    "print('Most common word is \"',maxWord,'\" it is used ',maxCount,'times')"
   ]
  },
  {
   "cell_type": "markdown",
   "id": "e163f37d",
   "metadata": {},
   "source": [
    "# Read specific line from file"
   ]
  },
  {
   "cell_type": "code",
   "execution_count": 20,
   "id": "8a01ebee",
   "metadata": {},
   "outputs": [
    {
     "name": "stdout",
     "output_type": "stream",
     "text": [
      "This methodology section outlines the comprehensive approach employed to investigate the impact of international trade on Pakistan's economy. The research design, data collection methods, sampling, data analysis techniques, and ethical \n",
      "\n"
     ]
    }
   ],
   "source": [
    "line_number = 1\n",
    "file_path = r\"C:\\Users\\hp\\Desktop\\Input.txt\"\n",
    "\n",
    "try:\n",
    "    with open(file_path, 'r') as fo:\n",
    "        currentline = 1\n",
    "        for line in fo:\n",
    "            if currentline == line_number:\n",
    "                print(line)\n",
    "                break\n",
    "            currentline += 1\n",
    "except FileNotFoundError:\n",
    "    print(f\"File not found at: {file_path}\")"
   ]
  },
  {
   "cell_type": "code",
   "execution_count": null,
   "id": "c555cb86",
   "metadata": {},
   "outputs": [],
   "source": []
  }
 ],
 "metadata": {
  "kernelspec": {
   "display_name": "Python 3 (ipykernel)",
   "language": "python",
   "name": "python3"
  },
  "language_info": {
   "codemirror_mode": {
    "name": "ipython",
    "version": 3
   },
   "file_extension": ".py",
   "mimetype": "text/x-python",
   "name": "python",
   "nbconvert_exporter": "python",
   "pygments_lexer": "ipython3",
   "version": "3.11.4"
  }
 },
 "nbformat": 4,
 "nbformat_minor": 5
}
